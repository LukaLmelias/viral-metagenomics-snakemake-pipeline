{
 "cells": [
  {
   "cell_type": "code",
   "execution_count": 1,
   "metadata": {},
   "outputs": [],
   "source": [
    "#imports\n",
    "import pandas as pd\n",
    "import os\n",
    "import seaborn as sns\n",
    "import numpy as np\n",
    "from matplotlib import pyplot as plt\n",
    "%matplotlib inline"
   ]
  },
  {
   "cell_type": "markdown",
   "metadata": {},
   "source": [
    "### Analyse Checkv Quality Report"
   ]
  },
  {
   "cell_type": "code",
   "execution_count": 2,
   "metadata": {},
   "outputs": [],
   "source": [
    "\n",
    "checkvReportDir_viral = \"/lustre/shared/wfsr-mcfa/projects/internships/luka/viral_metagenomics_pipeline/results/checkv\" #HCFKNDSX3_104762-001-002_44_TTAATCAG-CAGATTGG_L004/quality_summary.tsv\"\n",
    "\n",
    "\n",
    "checkvReportDir_host_removed = \"/lustre/shared/wfsr-mcfa/projects/internships/luka/viral_metagenomics_pipeline/results/checkv/host_removed\"# HCFKNDSX3_104762-001-002_44_TTAATCAG-CAGATTGG_L004/quality_summary.tsv\"\n",
    "# checkvReport_viral_only = pd.read_csv(checkvReportDir_viral, sep=\"\\t\")\n",
    "# checkvReport_host_removed = pd.read_csv(checkvReportDir_host_removed , sep=\"\\t\")\n",
    "\n"
   ]
  },
  {
   "cell_type": "code",
   "execution_count": 3,
   "metadata": {},
   "outputs": [],
   "source": [
    "\n",
    "\n",
    "def get_mean_contig_len(checkv_dir):\n",
    "\n",
    "    \"\"\"\n",
    "    Calculate mean contig length and count the number of medium to complete genomes for each sample in a directory.\n",
    "\n",
    "    Parameters:\n",
    "    checkv_dir (str): The directory containing sample subdirectories, each with a \"quality_summary.tsv\" file.\n",
    "\n",
    "    Returns:\n",
    "    list: A list of mean contig lengths for each sample.\n",
    "    list: A list of counts for medium to complete genomes for each sample.\n",
    "    list: A list of sample names.\n",
    "    \"\"\"\n",
    "    \n",
    "    mean_contig_length = []\n",
    "    all_quality = []\n",
    "    samples = []\n",
    "\n",
    "    # Iterate through subdirectories in checkv_dir\n",
    "    for sample in os.listdir(checkv_dir):\n",
    "        \n",
    "        \n",
    "        ignore_dir = ['checkv-db-v1.5', \"host_removed\"]\n",
    "        \n",
    "        if sample in  ignore_dir:\n",
    "            continue\n",
    "        #print(dir)\n",
    "\n",
    "        # read in the checkv quality report\n",
    "        checkv_df = pd.read_csv(os.path.join(checkv_dir, sample, \"quality_summary.tsv\"), sep=\"\\t\")\n",
    "        \n",
    "        # pick the sample mean contig len\n",
    "        sample_mean_contig_length = checkv_df['contig_length'].mean()\n",
    "        mean_contig_length.append(sample_mean_contig_length)\n",
    "\n",
    "        #pick the number of medium to complete genomes\n",
    "        sample_quality = checkv_df.query(\"checkv_quality == 'Medium-quality' | checkv_quality == 'High-quality' | \\\n",
    "        checkv_quality == 'Complete'\").shape[0]\n",
    "\n",
    "        all_quality.append(sample_quality)\n",
    "\n",
    "        #add sample label\n",
    "        samples.append(sample)\n",
    "\n",
    "                                                                \n",
    "        \n",
    "        #print(sample, sample_quality)\n",
    "    \n",
    "    #create the necessary df\n",
    "    \n",
    "\n",
    "        \n",
    "\n",
    "    return mean_contig_length, all_quality, samples\n",
    "    #break\n",
    "\n",
    "\n",
    "\n",
    "\n",
    "\n"
   ]
  },
  {
   "cell_type": "code",
   "execution_count": 4,
   "metadata": {},
   "outputs": [],
   "source": [
    "# how many contigs were longer than 2kb?\n",
    "def get_num_over2kb_contigs(checkv_dir):\n",
    "\n",
    "    \"\"\"\n",
    "    Count the number of contigs with a length greater than or equal to 2kb for each sample in a directory.\n",
    "\n",
    "    Parameters:\n",
    "    checkv_dir (str): The directory containing sample subdirectories, each with a \"quality_summary.tsv\" file.\n",
    "\n",
    "    Returns:\n",
    "    list: A list of counts of contigs greater than or equal to 2kb for each sample.\n",
    "    \"\"\"\n",
    "\n",
    "    \n",
    "    over2kb = []\n",
    "    for sample in os.listdir(checkv_dir):\n",
    "        \n",
    "        \n",
    "        ignore_dir = ['checkv-db-v1.5', \"host_removed\"]\n",
    "        \n",
    "        if sample in  ignore_dir:\n",
    "            continue\n",
    "        #print(dir)\n",
    "\n",
    "        # read in the checkv quality report\n",
    "        checkv_df = pd.read_csv(os.path.join(checkv_dir, sample, \"quality_summary.tsv\"), sep=\"\\t\")\n",
    "        \n",
    "        # pick the numbe of contigs >= 2kb\n",
    "        sample_over2kb = checkv_df.query(\"contig_length >= 2000\").shape[0]\n",
    "\n",
    "        over2kb.append(sample_over2kb)\n",
    "\n",
    "                                                                \n",
    "        \n",
    "        #print(sample, sample_quality)\n",
    "\n",
    "        \n",
    "\n",
    "    return over2kb"
   ]
  },
  {
   "cell_type": "code",
   "execution_count": 5,
   "metadata": {},
   "outputs": [],
   "source": [
    "viral_only_contig_len, viral_good_quality, samples = get_mean_contig_len(checkvReportDir_viral)\n",
    "\n",
    "host_removed_contig_len, host_removed_good_quality, samples = get_mean_contig_len(checkvReportDir_host_removed)"
   ]
  },
  {
   "cell_type": "code",
   "execution_count": 6,
   "metadata": {},
   "outputs": [
    {
     "data": {
      "text/plain": [
       "27"
      ]
     },
     "execution_count": 6,
     "metadata": {},
     "output_type": "execute_result"
    }
   ],
   "source": [
    "over2kb_viral_only = get_num_over2kb_contigs(checkvReportDir_viral)\n",
    "sum(over2kb_viral_only)"
   ]
  },
  {
   "cell_type": "code",
   "execution_count": 7,
   "metadata": {},
   "outputs": [
    {
     "data": {
      "text/plain": [
       "1879"
      ]
     },
     "execution_count": 7,
     "metadata": {},
     "output_type": "execute_result"
    }
   ],
   "source": [
    "over2kb_host_removed = get_num_over2kb_contigs(checkvReportDir_host_removed)\n",
    "sum(over2kb_host_removed)"
   ]
  },
  {
   "cell_type": "code",
   "execution_count": 9,
   "metadata": {},
   "outputs": [
    {
     "data": {
      "text/html": [
       "<div>\n",
       "<style scoped>\n",
       "    .dataframe tbody tr th:only-of-type {\n",
       "        vertical-align: middle;\n",
       "    }\n",
       "\n",
       "    .dataframe tbody tr th {\n",
       "        vertical-align: top;\n",
       "    }\n",
       "\n",
       "    .dataframe thead th {\n",
       "        text-align: right;\n",
       "    }\n",
       "</style>\n",
       "<table border=\"1\" class=\"dataframe\">\n",
       "  <thead>\n",
       "    <tr style=\"text-align: right;\">\n",
       "      <th></th>\n",
       "      <th>viruses_only</th>\n",
       "      <th>host_exclusion</th>\n",
       "    </tr>\n",
       "  </thead>\n",
       "  <tbody>\n",
       "    <tr>\n",
       "      <th>0</th>\n",
       "      <td>414.753247</td>\n",
       "      <td>391.512302</td>\n",
       "    </tr>\n",
       "    <tr>\n",
       "      <th>1</th>\n",
       "      <td>386.579281</td>\n",
       "      <td>392.992876</td>\n",
       "    </tr>\n",
       "    <tr>\n",
       "      <th>2</th>\n",
       "      <td>395.635135</td>\n",
       "      <td>380.497641</td>\n",
       "    </tr>\n",
       "    <tr>\n",
       "      <th>3</th>\n",
       "      <td>394.033898</td>\n",
       "      <td>376.342349</td>\n",
       "    </tr>\n",
       "    <tr>\n",
       "      <th>4</th>\n",
       "      <td>418.277533</td>\n",
       "      <td>412.726460</td>\n",
       "    </tr>\n",
       "    <tr>\n",
       "      <th>5</th>\n",
       "      <td>403.719128</td>\n",
       "      <td>394.331855</td>\n",
       "    </tr>\n",
       "    <tr>\n",
       "      <th>6</th>\n",
       "      <td>345.441962</td>\n",
       "      <td>398.038188</td>\n",
       "    </tr>\n",
       "    <tr>\n",
       "      <th>7</th>\n",
       "      <td>431.631902</td>\n",
       "      <td>406.481628</td>\n",
       "    </tr>\n",
       "    <tr>\n",
       "      <th>8</th>\n",
       "      <td>430.290698</td>\n",
       "      <td>387.978686</td>\n",
       "    </tr>\n",
       "    <tr>\n",
       "      <th>9</th>\n",
       "      <td>416.235821</td>\n",
       "      <td>408.492110</td>\n",
       "    </tr>\n",
       "    <tr>\n",
       "      <th>10</th>\n",
       "      <td>355.654045</td>\n",
       "      <td>408.558123</td>\n",
       "    </tr>\n",
       "    <tr>\n",
       "      <th>11</th>\n",
       "      <td>398.415873</td>\n",
       "      <td>403.377378</td>\n",
       "    </tr>\n",
       "    <tr>\n",
       "      <th>12</th>\n",
       "      <td>422.720670</td>\n",
       "      <td>378.341553</td>\n",
       "    </tr>\n",
       "    <tr>\n",
       "      <th>13</th>\n",
       "      <td>387.454545</td>\n",
       "      <td>406.898485</td>\n",
       "    </tr>\n",
       "    <tr>\n",
       "      <th>14</th>\n",
       "      <td>404.378472</td>\n",
       "      <td>406.476873</td>\n",
       "    </tr>\n",
       "    <tr>\n",
       "      <th>15</th>\n",
       "      <td>391.477371</td>\n",
       "      <td>416.295134</td>\n",
       "    </tr>\n",
       "    <tr>\n",
       "      <th>16</th>\n",
       "      <td>422.147436</td>\n",
       "      <td>393.317350</td>\n",
       "    </tr>\n",
       "    <tr>\n",
       "      <th>17</th>\n",
       "      <td>430.351648</td>\n",
       "      <td>413.233874</td>\n",
       "    </tr>\n",
       "  </tbody>\n",
       "</table>\n",
       "</div>"
      ],
      "text/plain": [
       "    viruses_only  host_exclusion\n",
       "0     414.753247      391.512302\n",
       "1     386.579281      392.992876\n",
       "2     395.635135      380.497641\n",
       "3     394.033898      376.342349\n",
       "4     418.277533      412.726460\n",
       "5     403.719128      394.331855\n",
       "6     345.441962      398.038188\n",
       "7     431.631902      406.481628\n",
       "8     430.290698      387.978686\n",
       "9     416.235821      408.492110\n",
       "10    355.654045      408.558123\n",
       "11    398.415873      403.377378\n",
       "12    422.720670      378.341553\n",
       "13    387.454545      406.898485\n",
       "14    404.378472      406.476873\n",
       "15    391.477371      416.295134\n",
       "16    422.147436      393.317350\n",
       "17    430.351648      413.233874"
      ]
     },
     "execution_count": 9,
     "metadata": {},
     "output_type": "execute_result"
    }
   ],
   "source": [
    "\n",
    "contigs_len = pd.DataFrame({\n",
    "    'viruses_only': viral_only_contig_len,\n",
    "    'host_exclusion': host_removed_contig_len\n",
    "})\n",
    "contigs_len.head(20)"
   ]
  },
  {
   "cell_type": "code",
   "execution_count": 13,
   "metadata": {},
   "outputs": [
    {
     "data": {
      "text/plain": [
       "viruses_only      392.116503\n",
       "host_exclusion    391.882445\n",
       "Name: 0.25, dtype: float64"
      ]
     },
     "execution_count": 13,
     "metadata": {},
     "output_type": "execute_result"
    }
   ],
   "source": [
    "# check quantiles (Q1)\n",
    "contigs_len.quantile(0.25)"
   ]
  },
  {
   "cell_type": "code",
   "execution_count": 14,
   "metadata": {},
   "outputs": [
    {
     "data": {
      "text/plain": [
       "viruses_only      421.179960\n",
       "host_exclusion    408.093704\n",
       "Name: 0.75, dtype: float64"
      ]
     },
     "execution_count": 14,
     "metadata": {},
     "output_type": "execute_result"
    }
   ],
   "source": [
    "# check quantiles (Q3)\n",
    "contigs_len.quantile(0.75)"
   ]
  },
  {
   "cell_type": "code",
   "execution_count": 10,
   "metadata": {},
   "outputs": [
    {
     "name": "stdout",
     "output_type": "stream",
     "text": [
      "viral only average length: 402.7332591913464\n",
      "       Host exclusion average length: 398.6607148348568\n"
     ]
    }
   ],
   "source": [
    "#what is the mean of contig lens\n",
    "viral_only_average_len = contigs_len['viruses_only'].mean()\n",
    "host_excluded_average_len =  contigs_len['host_exclusion'].mean()\n",
    "print(f'viral only average length: {viral_only_average_len}\\n \\\n",
    "      Host exclusion average length: {host_excluded_average_len}')"
   ]
  },
  {
   "cell_type": "code",
   "execution_count": 12,
   "metadata": {},
   "outputs": [
    {
     "data": {
      "image/png": "[encoded data removed]",
      "text/plain": [
       "<Figure size 480x640 with 1 Axes>"
      ]
     },
     "metadata": {},
     "output_type": "display_data"
    }
   ],
   "source": [
    "#plot the mean contig len\n",
    "plt.figure(figsize=(4.8,6.4),dpi=100)\n",
    "ax = sns.boxplot(data=contigs_len, orient='h',\n",
    "             showmeans = False)#palette= [sns.color_palette(\"colorblind\")[6],sns.color_palette(\"colorblind\")[5]],\n",
    "\n",
    "\n",
    "plt.xlabel('mean contig length (bp) per samples', fontsize=13)\n",
    "plt.savefig('../supplimentary_data/mean_contig_len.png',format='png',\n",
    "           transparent=False,bbox_inches = 'tight')\n",
    "plt.show()"
   ]
  },
  {
   "cell_type": "code",
   "execution_count": 12,
   "metadata": {},
   "outputs": [],
   "source": [
    "good_quality = pd.DataFrame({\n",
    "    'sample': samples,\n",
    "    'viruses_only': viral_good_quality,\n",
    "    'host_exclusion': host_removed_good_quality\n",
    "\n",
    "})\n",
    "good_quality.head(20)\n",
    "good_quality.to_csv(\"../supplimentary_data/checkv_good_quality_per_sample.csv\", columns=good_quality.columns)"
   ]
  },
  {
   "cell_type": "code",
   "execution_count": 13,
   "metadata": {},
   "outputs": [
    {
     "data": {
      "image/png": "[encoded data removed]",
      "text/plain": [
       "<Figure size 640x480 with 1 Axes>"
      ]
     },
     "metadata": {},
     "output_type": "display_data"
    }
   ],
   "source": [
    "plt.figure(figsize=(6.4,4.8),dpi=100)\n",
    "ax = sns.barplot(data=good_quality, \n",
    "             )#palette= [sns.color_palette(\"colorblind\")[6],sns.color_palette(\"colorblind\")[5]],\n",
    "\n",
    "\n",
    "plt.ylabel('# good quality', fontsize=15)\n",
    "plt.savefig('../supplimentary_data/good_contigs.png',format='png',\n",
    "           transparent=False,bbox_inches = 'tight')\n",
    "plt.show()"
   ]
  }
 ],
 "metadata": {
  "kernelspec": {
   "display_name": "base",
   "language": "python",
   "name": "python3"
  },
  "language_info": {
   "codemirror_mode": {
    "name": "ipython",
    "version": 3
   },
   "file_extension": ".py",
   "mimetype": "text/x-python",
   "name": "python",
   "nbconvert_exporter": "python",
   "pygments_lexer": "ipython3",
   "version": "3.10.11"
  },
  "orig_nbformat": 4
 },
 "nbformat": 4,
 "nbformat_minor": 2
}
